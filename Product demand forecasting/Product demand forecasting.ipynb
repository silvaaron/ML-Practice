{
 "cells": [
  {
   "cell_type": "markdown",
   "metadata": {},
   "source": [
    "# End to End Project - Product Demand Forecasting \n",
    "\n",
    "**Task: Product Demand Forecasting: Forecast the daily demand for each product**\n",
    "\n",
    "Input data available:\n",
    "\n",
    "Historical sales values (Location: /cxldata/datasets/project/demand_sales_orders_2014_15.csv)\n",
    "\n",
    "CustomerID\n",
    "\n",
    "OrderDate\n",
    "\n",
    "SalesOrderNumber\n",
    "\n",
    "TerritoryID\n",
    "\n",
    "ProductID\n",
    "\n",
    "UnitPrice\n",
    "\n",
    "OrderQty\n",
    "\n",
    "Additional features that can be computed are:\n",
    "\n",
    "Using Order date:\n",
    "\n",
    "Date features: year, month, week of month, etc.\n",
    "\n",
    "Time features\n",
    "\n",
    "Season features\n",
    "\n",
    "Weekday-and-weekend features\n",
    "\n",
    "Holiday features: New Year, U.S. Labor Day, U.S. Thanksgiving, Cyber Monday, Christmas, etc.\n",
    "\n",
    "Please use the forum below to discuss the problem and post queries.\n",
    "\n",
    "Data source Acknowledgement: This dataset is taken from the UCI machine learning repository Azure-Blog-Storage-Template Data"
   ]
  },
  {
   "cell_type": "code",
   "execution_count": null,
   "metadata": {},
   "outputs": [],
   "source": []
  }
 ],
 "metadata": {
  "kernelspec": {
   "display_name": "Python 3",
   "language": "python",
   "name": "python3"
  },
  "language_info": {
   "codemirror_mode": {
    "name": "ipython",
    "version": 3
   },
   "file_extension": ".py",
   "mimetype": "text/x-python",
   "name": "python",
   "nbconvert_exporter": "python",
   "pygments_lexer": "ipython3",
   "version": "3.6.10"
  }
 },
 "nbformat": 4,
 "nbformat_minor": 4
}
